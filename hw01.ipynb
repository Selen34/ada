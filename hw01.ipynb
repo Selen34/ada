{
 "cells": [
  {
   "cell_type": "markdown",
   "metadata": {},
   "source": [
    "## Практическое задание"
   ]
  },
  {
   "cell_type": "markdown",
   "metadata": {
    "colab_type": "text",
    "id": "huXrhXQsZTMt"
   },
   "source": [
    "__1. Подберите скорость обучения (alpha) и количество итераций:__"
   ]
  },
  {
   "cell_type": "code",
   "execution_count": 1,
   "metadata": {},
   "outputs": [],
   "source": [
    "import numpy as np"
   ]
  },
  {
   "cell_type": "code",
   "execution_count": 2,
   "metadata": {},
   "outputs": [],
   "source": [
    "def calc_mae(y, y_pred):\n",
    "    err = np.mean(np.abs(y - y_pred))\n",
    "    return err\n",
    "\n",
    "def calc_mse(y, y_pred):\n",
    "    err = np.mean((y - y_pred)**2) # <=> 1/n * np.sum((y_pred - y)**2)\n",
    "    return err"
   ]
  },
  {
   "cell_type": "code",
   "execution_count": 3,
   "metadata": {},
   "outputs": [],
   "source": [
    "X = np.array([[1, 1, 1, 1, 1, 1, 1, 1, 1, 1],\n",
    "              [1, 1, 2, 5, 3, 0, 5, 10, 1, 2]])\n",
    "y = [45, 55, 50, 55, 60, 35, 75, 80, 50, 60]"
   ]
  },
  {
   "cell_type": "code",
   "execution_count": 8,
   "metadata": {
    "colab": {
     "base_uri": "https://localhost:8080/",
     "height": 34
    },
    "colab_type": "code",
    "id": "VEXjDozNHdAo",
    "outputId": "7d12bb79-21b7-43fb-fd8e-d116a2af3bb7"
   },
   "outputs": [
    {
     "name": "stdout",
     "output_type": "stream",
     "text": [
      "Number of objects = 10        \n",
      "Learning rate = 0.06        \n",
      "Initial weights = [1.  0.5] \n",
      "\n"
     ]
    }
   ],
   "source": [
    "n = X.shape[1]\n",
    "alpha = 6e-2\n",
    "W = np.array([1, 0.5])\n",
    "print(f'Number of objects = {n} \\\n",
    "       \\nLearning rate = {alpha} \\\n",
    "       \\nInitial weights = {W} \\n')"
   ]
  },
  {
   "cell_type": "code",
   "execution_count": 10,
   "metadata": {
    "colab": {
     "base_uri": "https://localhost:8080/",
     "height": 185
    },
    "colab_type": "code",
    "id": "IDB22MQKMYaJ",
    "outputId": "4c03219e-a57c-4583-f439-6699fd0619bb"
   },
   "outputs": [
    {
     "name": "stdout",
     "output_type": "stream",
     "text": [
      "Iteration #0: W_new = [44.80482128  3.85922606], MSE = 44.0\n",
      "Iteration #10: W_new = [44.81641054  3.85712453], MSE = 44.0\n",
      "Iteration #20: W_new = [44.82649123  3.85529655], MSE = 44.0\n",
      "Iteration #30: W_new = [44.83529506  3.85370011], MSE = 43.99\n",
      "Iteration #40: W_new = [44.84301192  3.85230078], MSE = 43.99\n",
      "Iteration #50: W_new = [44.84979853  3.85107013], MSE = 43.99\n",
      "Iteration #60: W_new = [44.85578505  3.84998457], MSE = 43.99\n",
      "Iteration #70: W_new = [44.86108034  3.84902435], MSE = 43.99\n",
      "Iteration #80: W_new = [44.86577588  3.84817289], MSE = 43.99\n",
      "Iteration #90: W_new = [44.86994905  3.84741615], MSE = 43.99\n",
      "Iteration #100: W_new = [44.87366562  3.8467422 ], MSE = 43.99\n",
      "Iteration #110: W_new = [44.87698174  3.84614088], MSE = 43.99\n",
      "Iteration #120: W_new = [44.8799456   3.84560343], MSE = 43.98\n",
      "Iteration #130: W_new = [44.88259871  3.84512233], MSE = 43.98\n",
      "Iteration #140: W_new = [44.88497699  3.84469106], MSE = 43.98\n",
      "Iteration #150: W_new = [44.88711165  3.84430397], MSE = 43.98\n",
      "Iteration #160: W_new = [44.88902986  3.84395613], MSE = 43.98\n",
      "Iteration #170: W_new = [44.89075539  3.84364324], MSE = 43.98\n",
      "Iteration #180: W_new = [44.89230909  3.8433615 ], MSE = 43.98\n",
      "Iteration #190: W_new = [44.89370928  3.8431076 ], MSE = 43.98\n",
      "Iteration #200: W_new = [44.89497213  3.8428786 ], MSE = 43.98\n",
      "Iteration #210: W_new = [44.89611194  3.84267191], MSE = 43.98\n",
      "Iteration #220: W_new = [44.89714137  3.84248524], MSE = 43.98\n",
      "Iteration #230: W_new = [44.89807166  3.84231654], MSE = 43.98\n",
      "Iteration #240: W_new = [44.89891282  3.84216401], MSE = 43.98\n"
     ]
    }
   ],
   "source": [
    "for i in range(250):\n",
    "    y_pred = np.dot(W, X)\n",
    "    err = calc_mse(y, y_pred)\n",
    "    for k in range(W.shape[0]):\n",
    "        W[k] -= alpha * (1/n * 2 * np.sum(X[k] * (y_pred - y)))\n",
    "    if i % 10 == 0:\n",
    "        alpha /= 1.1\n",
    "        print(f'Iteration #{i}: W_new = {W}, MSE = {round(err,2)}')"
   ]
  },
  {
   "cell_type": "markdown",
   "metadata": {},
   "source": [
    "Получилось alpha = 6e-2 и 250 итераций"
   ]
  },
  {
   "cell_type": "markdown",
   "metadata": {
    "colab_type": "text",
    "id": "5Qu1o4JhZYwI"
   },
   "source": [
    "__*2. В этом коде мы избавляемся от итераций по весам, но тут есть ошибка, исправьте ее:__"
   ]
  },
  {
   "cell_type": "code",
   "execution_count": 12,
   "metadata": {
    "colab": {
     "base_uri": "https://localhost:8080/",
     "height": 185
    },
    "colab_type": "code",
    "id": "WZZzDCQLY4pA",
    "outputId": "28f58ade-72f2-4381-809d-2417752d56e4"
   },
   "outputs": [
    {
     "name": "stdout",
     "output_type": "stream",
     "text": [
      "0 [44.90213168  3.84457366] 43.98109463887003\n",
      "100 [44.90213168  3.84457366] 43.98109463887004\n",
      "200 [44.90213168  3.84457366] 43.98109463887004\n",
      "300 [44.90213168  3.84457366] 43.98109463887004\n",
      "400 [44.90213168  3.84457366] 43.98109463887004\n",
      "500 [44.90213168  3.84457366] 43.98109463887004\n",
      "600 [44.90213168  3.84457366] 43.98109463887004\n",
      "700 [44.90213168  3.84457366] 43.98109463887004\n",
      "800 [44.90213168  3.84457366] 43.98109463887004\n",
      "900 [44.90213168  3.84457366] 43.98109463887004\n"
     ]
    }
   ],
   "source": [
    "for i in range(1000):\n",
    "    y_pred = np.dot(W, X)\n",
    "    err = calc_mse(y, y_pred)\n",
    "    '''for ii in range(W.shape[0]):\n",
    "    W[ii] -= alpha * (1/n * 2 * np.sum(X[ii] * (y_pred - y)))'''\n",
    "    W -= (alpha * (1/n * 2 * np.sum(X * (y_pred - y))))\n",
    "    if i % 100 == 0:\n",
    "        print(i, W, err)"
   ]
  },
  {
   "cell_type": "markdown",
   "metadata": {},
   "source": [
    "__решение:__"
   ]
  },
  {
   "cell_type": "code",
   "execution_count": 13,
   "metadata": {},
   "outputs": [
    {
     "name": "stdout",
     "output_type": "stream",
     "text": [
      "Number of objects = 10        \n",
      "Learning rate = 0.04        \n",
      "Initial weights = [1.  0.5] \n",
      "\n",
      "Iteration #0: W_new = [ 5.32 15.58], MSE = 3047.75\n",
      "Iteration #10: W_new = [17.10326214  8.88299874], MSE = 440.56\n",
      "Iteration #20: W_new = [25.78123866  7.30885952], MSE = 232.58\n",
      "Iteration #30: W_new = [31.76579204  6.22365298], MSE = 133.67\n",
      "Iteration #40: W_new = [35.89284874  5.47527488], MSE = 86.63\n",
      "Iteration #50: W_new = [38.73894198  4.95917975], MSE = 64.26\n",
      "Iteration #60: W_new = [40.70165956  4.60327118], MSE = 53.62\n",
      "Iteration #70: W_new = [42.05518524  4.35783016], MSE = 48.56\n",
      "Iteration #80: W_new = [42.98860113  4.18856958], MSE = 46.15\n",
      "Iteration #90: W_new = [43.63230168  4.07184441], MSE = 45.01\n",
      "Iteration #100: W_new = [44.07620927  3.99134862], MSE = 44.46\n",
      "Iteration #110: W_new = [44.382336    3.93583725], MSE = 44.2\n",
      "Iteration #120: W_new = [44.59344656  3.89755561], MSE = 44.08\n",
      "Iteration #130: W_new = [44.73903223  3.87115589], MSE = 44.02\n",
      "Iteration #140: W_new = [44.83943075  3.85295017], MSE = 43.99\n",
      "Iteration #150: W_new = [44.90866739  3.84039517], MSE = 43.98\n",
      "Iteration #160: W_new = [44.95641424  3.83173702], MSE = 43.97\n",
      "Iteration #170: W_new = [44.98934133  3.8257662 ], MSE = 43.97\n",
      "Iteration #180: W_new = [45.01204846  3.82164861], MSE = 43.97\n",
      "Iteration #190: W_new = [45.0277077   3.81880905], MSE = 43.97\n"
     ]
    }
   ],
   "source": [
    "n = X.shape[1]\n",
    "alpha = 4e-2\n",
    "W = np.array([1, 0.5])\n",
    "print(f'Number of objects = {n} \\\n",
    "       \\nLearning rate = {alpha} \\\n",
    "       \\nInitial weights = {W} \\n')\n",
    "\n",
    "for i in range(200):\n",
    "    y_pred = np.dot(W, X)\n",
    "    err = calc_mse(y, y_pred)\n",
    "    W -= alpha * (1/n * 2 * np.dot(X, (y_pred - y)))\n",
    "    if i % 10 == 0:\n",
    "        print(f'Iteration #{i}: W_new = {W}, MSE = {round(err,2)}')"
   ]
  },
  {
   "cell_type": "code",
   "execution_count": null,
   "metadata": {},
   "outputs": [],
   "source": []
  }
 ],
 "metadata": {
  "kernelspec": {
   "display_name": "Python 3",
   "language": "python",
   "name": "python3"
  },
  "language_info": {
   "codemirror_mode": {
    "name": "ipython",
    "version": 3
   },
   "file_extension": ".py",
   "mimetype": "text/x-python",
   "name": "python",
   "nbconvert_exporter": "python",
   "pygments_lexer": "ipython3",
   "version": "3.7.6"
  }
 },
 "nbformat": 4,
 "nbformat_minor": 4
}
