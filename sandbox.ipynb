{
 "cells": [
  {
   "cell_type": "code",
   "execution_count": 1,
   "metadata": {},
   "outputs": [],
   "source": [
    "import warnings\n",
    "import numpy as np\n",
    "import matplotlib.pyplot as plt\n",
    "from matplotlib import cm\n",
    "from pylab import *\n",
    "from mpl_toolkits.mplot3d import Axes3D\n",
    "from tqdm import tqdm\n",
    "from sklearn.datasets import make_regression"
   ]
  },
  {
   "cell_type": "code",
   "execution_count": 2,
   "metadata": {},
   "outputs": [],
   "source": [
    "%matplotlib inline"
   ]
  },
  {
   "cell_type": "code",
   "execution_count": 3,
   "metadata": {},
   "outputs": [],
   "source": [
    "def MSE(X, W, target):\n",
    "    y = X.dot(W)\n",
    "    #np.mean(np.square(y_true - y_pred))\n",
    "    return (np.sum((y - target)**2)) / len(y)"
   ]
  },
  {
   "cell_type": "code",
   "execution_count": 4,
   "metadata": {},
   "outputs": [],
   "source": [
    "def RMSE(X, W, target):\n",
    "    y = X.dot(W)\n",
    "    return np.sqrt((np.sum((y - target)**2)) / len(y))"
   ]
  },
  {
   "cell_type": "code",
   "execution_count": 5,
   "metadata": {},
   "outputs": [],
   "source": [
    "def calc_mse(y, y_pred):\n",
    "    err = np.mean((y - y_pred)**2)\n",
    "    return err"
   ]
  },
  {
   "cell_type": "code",
   "execution_count": 6,
   "metadata": {},
   "outputs": [],
   "source": [
    "X = np.array([\n",
    "    [1, 1, 1, 1, 1, 1, 1, 1, 1, 1, 1, 1],\n",
    "    [1, 1, 2, 1, 3, 0, 5, 10, 1, 2, 8, 9]\n",
    "])\n",
    "Y = [45, 55, 50, 59, 65, 35, 75, 80, 50, 60, 65, 70]"
   ]
  },
  {
   "cell_type": "code",
   "execution_count": 7,
   "metadata": {},
   "outputs": [
    {
     "data": {
      "text/plain": [
       "12"
      ]
     },
     "execution_count": 7,
     "metadata": {},
     "output_type": "execute_result"
    }
   ],
   "source": [
    "X.shape[1]"
   ]
  },
  {
   "cell_type": "code",
   "execution_count": 8,
   "metadata": {},
   "outputs": [
    {
     "name": "stdout",
     "output_type": "stream",
     "text": [
      "Number of objects = 12        \n",
      "Learning rate = 0.04        \n",
      "Initial weights = [1.  0.5] \n",
      "\n"
     ]
    }
   ],
   "source": [
    "n = X.shape[1]\n",
    "alpha = 4e-2\n",
    "W = np.array([1, 0.5])\n",
    "print(f'Number of objects = {n} \\\n",
    "       \\nLearning rate = {alpha} \\\n",
    "       \\nInitial weights = {W} \\n')\n",
    "weights_history = []\n",
    "mse_history = []\n",
    "\n",
    "for i in range(150):\n",
    "    y_pred = np.dot(W, X)\n",
    "    err = calc_mse(Y, y_pred)\n",
    "    W -= alpha * (1/n * 2 * np.dot(X, (y_pred - Y)))\n",
    "    mse_history.append(err)\n",
    "    weights_history.append(W.copy())"
   ]
  },
  {
   "cell_type": "code",
   "execution_count": 9,
   "metadata": {},
   "outputs": [],
   "source": [
    "class Item:\n",
    "    def __init__(self, base_w, max_pow, mu):\n",
    "        self.alpha = 100\n",
    "        self.mu = mu\n",
    "        self.base_weights = base_w\n",
    "        self.base_len = len(base_w)\n",
    "        self.max_pow = max_pow\n",
    "        self.genetic_weights = np.random.randn((self.max_pow - 1)*self.base_len)/self.alpha\n",
    "        self.weights = np.reshape(self.genetic_weights, ((self.max_pow - 1), self.base_len))\n",
    "        self.pow = np.random.randint(2, max_pow + 1)\n",
    "        self.mse_value = 0\n",
    "        self.drop_first()\n",
    "    def predict_train(self, Y, X):\n",
    "        y_pred = np.dot(self.base_weights, X)\n",
    "        for i in range(self.pow-1):\n",
    "            y_pred = y_pred + np.dot(self.weights[i], np.power(X, i+2))\n",
    "        self.mse_value = self.mse(Y, y_pred)\n",
    "        return y_pred\n",
    "    def predict(self, X):\n",
    "        y_pred = np.dot(self.base_weights, X)\n",
    "        for i in range(self.pow-1):\n",
    "            y_pred = y_pred + np.dot(self.weights[i], np.power(X, i+2))\n",
    "        return y_pred\n",
    "    def drop_first(self):\n",
    "        for i in range(0, (self.max_pow-1)*self.base_len, self.base_len):\n",
    "            self.genetic_weights[i] = 0\n",
    "    def mse(self, y, y_pred):\n",
    "        return np.mean(np.square(y - y_pred))\n",
    "    def get_mse(self):\n",
    "        return self.mse_value\n",
    "    def mutations(self):\n",
    "        for i in range(len(self.genetic_weights)):\n",
    "            if np.random.choice([1,0], p=[self.mu, 1-self.mu]):\n",
    "                self.genetic_weights[i] = self.genetic_weights[i] + np.random.normal(0, 1)/100\n",
    "        self.drop_first()\n",
    "    def set_genetic(self, g_code, g_pow):\n",
    "        self.genetic_weights = g_code\n",
    "        self.weights = np.reshape(self.genetic_weights, ((self.max_pow - 1), self.base_len))\n",
    "        self.pow = g_pow\n",
    "        self.mse_value = 0\n",
    "    def get_genetic(self):\n",
    "        return {'weights': self.genetic_weights, 'pow': self.pow}"
   ]
  },
  {
   "cell_type": "code",
   "execution_count": 10,
   "metadata": {},
   "outputs": [
    {
     "data": {
      "image/png": "[encoded data removed]",
      "text/plain": [
       "<Figure size 720x360 with 1 Axes>"
      ]
     },
     "metadata": {
      "needs_background": "light"
     },
     "output_type": "display_data"
    }
   ],
   "source": [
    "xv = np.linspace(0, 10, 100)\n",
    "plt.figure(figsize=(10,5))\n",
    "plt.scatter(X[1], Y)\n",
    "plt.plot(xv, W[0] + xv*W[1])\n",
    "plt.plot(xv, W[0] + xv*W[1] + 0.33*xv**2 - 0.03*xv**3 )\n",
    "#plt.scatter(X[1], tmp)\n",
    "plt.show()"
   ]
  },
  {
   "cell_type": "code",
   "execution_count": 11,
   "metadata": {},
   "outputs": [],
   "source": [
    "from scipy.stats import norm\n",
    "from numba import jit"
   ]
  },
  {
   "cell_type": "code",
   "execution_count": 12,
   "metadata": {},
   "outputs": [],
   "source": [
    "MAX_POW = 4\n",
    "MUTATION_COEF = 0.1\n",
    "BASE_LEN = len(W)\n",
    "W_ARRAY = np.arange((MAX_POW-1)*BASE_LEN)\n",
    "MID_ARRAY = len(W_ARRAY) // 2\n",
    "LEN_ARRAY = len(W_ARRAY)\n",
    "PROBS = norm.pdf(W_ARRAY, MID_ARRAY)\n",
    "PROBS[MID_ARRAY] = PROBS[MID_ARRAY] + (1 - sum(PROBS))\n",
    "PROBS[MID_ARRAY-1] = PROBS[MID_ARRAY-1] + PROBS[0]\n",
    "PROBS[0] = 0\n",
    "PROBS[MID_ARRAY] = PROBS[MID_ARRAY] + PROBS[LEN_ARRAY-1]\n",
    "PROBS[LEN_ARRAY-1] = 0"
   ]
  },
  {
   "cell_type": "code",
   "execution_count": 13,
   "metadata": {},
   "outputs": [],
   "source": [
    "def crossing(item1:Item, item2:Item, W):\n",
    "    t_obj1 = Item(W, MAX_POW, MUTATION_COEF)\n",
    "    t_obj2 = Item(W, MAX_POW, MUTATION_COEF)\n",
    "    w1 = np.zeros(LEN_ARRAY)\n",
    "    w2 = np.zeros(LEN_ARRAY)\n",
    "    selection_point = np.random.choice(LEN_ARRAY, p=PROBS)\n",
    "    w1[:selection_point] = item1.get_genetic()['weights'][:selection_point]\n",
    "    w1[selection_point:] = item2.get_genetic()['weights'][selection_point:]\n",
    "    w2[:selection_point] = item2.get_genetic()['weights'][:selection_point]\n",
    "    w2[selection_point:] = item1.get_genetic()['weights'][selection_point:]\n",
    "    p1 = item1.get_genetic()['pow']\n",
    "    p2 = item2.get_genetic()['pow']\n",
    "    mse1 = item1.get_mse()\n",
    "    mse2 = item2.get_mse()\n",
    "    new_pow1 = np.random.choice([p1, p2], p=[(1 - mse1/(mse1+mse2)), (1 - mse2/(mse1+mse2))])\n",
    "    new_pow2 = np.random.choice([p1, p2], p=[(1 - mse1/(mse1+mse2)), (1 - mse2/(mse1+mse2))])\n",
    "    t_obj1.set_genetic(w1.copy(), new_pow1)\n",
    "    t_obj2.set_genetic(w2.copy(), new_pow1)\n",
    "    return [t_obj1, t_obj2]"
   ]
  },
  {
   "cell_type": "code",
   "execution_count": 14,
   "metadata": {},
   "outputs": [
    {
     "name": "stderr",
     "output_type": "stream",
     "text": [
      "100%|█████████▉| 995/1000 [00:22<00:00, 43.91it/s]"
     ]
    }
   ],
   "source": [
    "POPULATION_SIZE = 100\n",
    "HALF_SIZE = int(POPULATION_SIZE/2)\n",
    "NUM_OF_EPOCH = 1000\n",
    "population_pool = [Item(W, MAX_POW, MUTATION_COEF) for i in range(POPULATION_SIZE)]\n",
    "mse_pool = np.zeros(POPULATION_SIZE)\n",
    "mse_history = []\n",
    "best_idx = 0\n",
    "\n",
    "for e in tqdm(range(NUM_OF_EPOCH)):\n",
    "    for i in range(POPULATION_SIZE):\n",
    "        population_pool[i].predict_train(Y,X)\n",
    "        mse_pool[i] = population_pool[i].get_mse()\n",
    "    if(e == NUM_OF_EPOCH-1):\n",
    "        break\n",
    "    mse_history.append(min(mse_pool))\n",
    "    # selection\n",
    "    idx = np.argsort(mse_pool)\n",
    "    best_idx = idx[0]\n",
    "    # make pairs\n",
    "    pairs = np.zeros((HALF_SIZE,2), dtype=int)\n",
    "    for i in range(HALF_SIZE):\n",
    "        pairs[i][0] = int(np.random.choice(idx[:HALF_SIZE]))\n",
    "        pairs[i][1] = int(np.random.choice(idx[:HALF_SIZE]))\n",
    "\n",
    "    new_population = []\n",
    "    for i in range(HALF_SIZE):\n",
    "        new_population = new_population + (crossing(population_pool[pairs[i][0]],population_pool[pairs[i][1]],W))\n",
    "    \n",
    "    for i in range(POPULATION_SIZE):\n",
    "        new_population[i].mutations()\n",
    "    population_pool = None\n",
    "    population_pool = new_population\n",
    "\n",
    "    "
   ]
  },
  {
   "cell_type": "code",
   "execution_count": 15,
   "metadata": {},
   "outputs": [
    {
     "data": {
      "image/png": "[encoded data removed]",
      "text/plain": [
       "<Figure size 720x360 with 1 Axes>"
      ]
     },
     "metadata": {
      "needs_background": "light"
     },
     "output_type": "display_data"
    }
   ],
   "source": [
    "plt.figure(figsize=(10,5))\n",
    "plt.plot(range(len(mse_history)), mse_history)\n",
    "plt.show()"
   ]
  },
  {
   "cell_type": "code",
   "execution_count": 16,
   "metadata": {},
   "outputs": [
    {
     "data": {
      "text/plain": [
       "41"
      ]
     },
     "execution_count": 16,
     "metadata": {},
     "output_type": "execute_result"
    }
   ],
   "source": [
    "best_idx"
   ]
  },
  {
   "cell_type": "code",
   "execution_count": 17,
   "metadata": {},
   "outputs": [],
   "source": [
    "y_q = population_pool[best_idx].predict(X)"
   ]
  },
  {
   "cell_type": "code",
   "execution_count": 18,
   "metadata": {},
   "outputs": [],
   "source": [
    "xv = np.linspace(0, 10, 100)"
   ]
  },
  {
   "cell_type": "code",
   "execution_count": 19,
   "metadata": {},
   "outputs": [],
   "source": [
    "funcy = [population_pool[best_idx].predict([1, i]) for i in xv]"
   ]
  },
  {
   "cell_type": "code",
   "execution_count": 20,
   "metadata": {},
   "outputs": [
    {
     "data": {
      "image/png": "[encoded data removed]",
      "text/plain": [
       "<Figure size 720x360 with 1 Axes>"
      ]
     },
     "metadata": {
      "needs_background": "light"
     },
     "output_type": "display_data"
    }
   ],
   "source": [
    "plt.figure(figsize=(10,5))\n",
    "plt.scatter(X[1], Y)\n",
    "plt.plot(xv, W[0] + xv*W[1])\n",
    "plt.plot(xv, funcy)\n",
    "plt.scatter(X[1], y_q)\n",
    "plt.show()"
   ]
  },
  {
   "cell_type": "markdown",
   "metadata": {},
   "source": [
    "# __Генетический алгоритм построил почти такую же кривую, как построили изначально вручную!__"
   ]
  },
  {
   "cell_type": "code",
   "execution_count": 21,
   "metadata": {},
   "outputs": [
    {
     "data": {
      "text/plain": [
       "{'weights': array([ 0.        ,  0.3767104 ,  0.        , -0.03377779,  0.        ,\n",
       "        -0.11233994]),\n",
       " 'pow': 3}"
      ]
     },
     "execution_count": 21,
     "metadata": {},
     "output_type": "execute_result"
    }
   ],
   "source": [
    "population_pool[best_idx].get_genetic()"
   ]
  },
  {
   "cell_type": "code",
   "execution_count": 22,
   "metadata": {},
   "outputs": [
    {
     "data": {
      "text/plain": [
       "51.85219628075859"
      ]
     },
     "execution_count": 22,
     "metadata": {},
     "output_type": "execute_result"
    },
    {
     "name": "stderr",
     "output_type": "stream",
     "text": [
      "\r",
      "100%|█████████▉| 995/1000 [00:40<00:00, 43.91it/s]"
     ]
    }
   ],
   "source": [
    "population_pool[best_idx].get_mse()"
   ]
  },
  {
   "cell_type": "code",
   "execution_count": null,
   "metadata": {},
   "outputs": [],
   "source": []
  }
 ],
 "metadata": {
  "kernelspec": {
   "display_name": "Python 3",
   "language": "python",
   "name": "python3"
  },
  "language_info": {
   "codemirror_mode": {
    "name": "ipython",
    "version": 3
   },
   "file_extension": ".py",
   "mimetype": "text/x-python",
   "name": "python",
   "nbconvert_exporter": "python",
   "pygments_lexer": "ipython3",
   "version": "3.7.6"
  }
 },
 "nbformat": 4,
 "nbformat_minor": 4
}
