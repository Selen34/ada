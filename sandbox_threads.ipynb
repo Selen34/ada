{
 "cells": [
  {
   "cell_type": "code",
   "execution_count": 1,
   "metadata": {},
   "outputs": [],
   "source": [
    "import logging\n",
    "import threading\n",
    "import time\n",
    "from queue import Queue\n",
    "import random"
   ]
  },
  {
   "cell_type": "code",
   "execution_count": 2,
   "metadata": {},
   "outputs": [],
   "source": [
    "def thread_function(name, VAR):\n",
    "    logging.info(\"Thread %s: starting\", name)\n",
    "    VAR = [0, 1, 2, 3]\n",
    "    print(\"VAR IN THREAD\", VAR)\n",
    "    time.sleep(2)\n",
    "    logging.info(\"Thread %s: finishing\", name)\n",
    "    return VAR"
   ]
  },
  {
   "cell_type": "code",
   "execution_count": 3,
   "metadata": {},
   "outputs": [],
   "source": [
    "TMP = 'Hello'"
   ]
  },
  {
   "cell_type": "code",
   "execution_count": 4,
   "metadata": {},
   "outputs": [
    {
     "name": "stderr",
     "output_type": "stream",
     "text": [
      "15:25:54: Main    : before creating thread\n",
      "15:25:54: Main    : before running thread\n",
      "15:25:54: Thread 1: starting\n",
      "15:25:54: Main    : wait for the thread to finish\n"
     ]
    },
    {
     "name": "stdout",
     "output_type": "stream",
     "text": [
      "VAR TMP 1 Hello\n",
      "VAR TMP 2 Hello\n",
      "VAR IN THREAD [0, 1, 2, 3]\n"
     ]
    },
    {
     "name": "stderr",
     "output_type": "stream",
     "text": [
      "15:25:56: Thread 1: finishing\n",
      "15:25:56: Main    : all done\n"
     ]
    },
    {
     "name": "stdout",
     "output_type": "stream",
     "text": [
      "VAR TMP 3 None\n"
     ]
    }
   ],
   "source": [
    "format = \"%(asctime)s: %(message)s\"\n",
    "logging.basicConfig(format=format, level=logging.INFO,\n",
    "                    datefmt=\"%H:%M:%S\")\n",
    "logging.info(\"Main    : before creating thread\")\n",
    "print('VAR TMP 1', TMP)\n",
    "x = threading.Thread(target=thread_function, args=(1,TMP))\n",
    "logging.info(\"Main    : before running thread\")\n",
    "x.start()\n",
    "print('VAR TMP 2', TMP)\n",
    "logging.info(\"Main    : wait for the thread to finish\")\n",
    "TMP = x.join()\n",
    "logging.info(\"Main    : all done\")\n",
    "print('VAR TMP 3', TMP)"
   ]
  },
  {
   "cell_type": "code",
   "execution_count": 5,
   "metadata": {},
   "outputs": [
    {
     "data": {
      "text/plain": [
       "[1, 2, 3, 4]"
      ]
     },
     "execution_count": 5,
     "metadata": {},
     "output_type": "execute_result"
    }
   ],
   "source": [
    "def target_method(params, queue):\n",
    "    your_return = \"Whatever your object is\"\n",
    "    your_return = params\n",
    "    queue.put(your_return)\n",
    "\n",
    "params = [1,2,3,4]\n",
    "\n",
    "queue = Queue()\n",
    "thread_ = threading.Thread(\n",
    "                target=target_method,\n",
    "                name=\"Thread1\",\n",
    "                args=[params, queue],\n",
    "                )\n",
    "thread_.start()\n",
    "thread_.join()\n",
    "queue.get()\n",
    "\n",
    "\n",
    "#Start all threads in thread pool\n",
    "#    for thread in pool:\n",
    "#        thread.start()\n",
    "#        response = queue.get()\n",
    "#        thread_results.append(response)\n",
    "\n",
    "#Kill all threads\n",
    "#    for thread in pool:\n",
    "#        thread.join()"
   ]
  },
  {
   "cell_type": "code",
   "execution_count": 6,
   "metadata": {},
   "outputs": [],
   "source": [
    "class myThread( threading.Thread ):\n",
    "    def __init__( self, arr ):\n",
    "        threading.Thread.__init__( self )\n",
    "        self.arr = arr\n",
    "        self.ret = None\n",
    "\n",
    "    def run( self ):\n",
    "        self.myJob( self.arr )\n",
    "\n",
    "    def join( self ):\n",
    "        threading.Thread.join( self )\n",
    "        return self.ret\n",
    "\n",
    "    def myJob( self, arr ):\n",
    "        time.sleep(2)\n",
    "        self.ret = sorted( self.arr )\n",
    "        return"
   ]
  },
  {
   "cell_type": "code",
   "execution_count": 7,
   "metadata": {},
   "outputs": [
    {
     "name": "stdout",
     "output_type": "stream",
     "text": [
      "arr2:  [0, 0, 2, 2, 3, 4, 6, 8, 9, 10, 11, 12, 14, 14, 17, 17, 17, 21, 24, 25, 25, 25, 27, 28, 28, 28, 29, 30, 30, 33, 33, 38, 39, 40, 43, 43, 43, 44, 44, 48, 49, 49, 49, 54, 54, 55, 55, 56, 56, 57, 59, 60, 63, 64, 65, 65, 66, 66, 68, 68, 69, 69, 70, 71, 71, 72, 73, 74, 75, 78, 78, 79, 80, 83, 83, 84, 85, 86, 88, 88, 89, 90, 90, 90, 90, 92, 92, 92, 92, 94, 95, 96, 98, 99, 99, 99, 99, 99, 100, 100]\n"
     ]
    }
   ],
   "source": [
    "N = 100\n",
    "\n",
    "arr = [ random.randint( 0, 100 ) for x in range( N ) ]\n",
    "th = myThread( arr )\n",
    "th.start( )\n",
    "sortedArr = th.join( )\n",
    "\n",
    "print (\"arr2: \", sortedArr)"
   ]
  },
  {
   "cell_type": "code",
   "execution_count": null,
   "metadata": {},
   "outputs": [],
   "source": []
  }
 ],
 "metadata": {
  "kernelspec": {
   "display_name": "Python 3",
   "language": "python",
   "name": "python3"
  },
  "language_info": {
   "codemirror_mode": {
    "name": "ipython",
    "version": 3
   },
   "file_extension": ".py",
   "mimetype": "text/x-python",
   "name": "python",
   "nbconvert_exporter": "python",
   "pygments_lexer": "ipython3",
   "version": "3.7.6"
  }
 },
 "nbformat": 4,
 "nbformat_minor": 4
}
